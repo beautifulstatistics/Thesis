{
 "cells": [
  {
   "cell_type": "code",
   "execution_count": 1,
   "id": "a03fd441-b56f-470b-93c8-fbb2287c6d33",
   "metadata": {},
   "outputs": [],
   "source": [
    "from transformers import M2M100ForConditionalGeneration, M2M100Tokenizer\n",
    "\n",
    "model = M2M100ForConditionalGeneration.from_pretrained(\"facebook/m2m100_418M\")\n",
    "tokenizer = M2M100Tokenizer.from_pretrained(\"facebook/m2m100_418M\")\n",
    "\n",
    "tokenizer.src_lang = \"zh\"\n",
    "\n",
    "def translate(text):\n",
    "    encoded_zh = tokenizer(text, padding=True,return_tensors=\"pt\")\n",
    "    generated_tokens = model.generate(**encoded_zh, forced_bos_token_id=tokenizer.get_lang_id(\"en\"))\n",
    "    english = tokenizer.batch_decode(generated_tokens, skip_special_tokens=True)\n",
    "    return english[0]"
   ]
  },
  {
   "cell_type": "code",
   "execution_count": 2,
   "id": "3426de88-5292-4954-9d2b-0e16345bd548",
   "metadata": {},
   "outputs": [],
   "source": [
    "import dask.dataframe as dd\n",
    "\n",
    "df = dd.read_parquet('./data').sample(frac=.01)\n",
    "df['translated'] = df.text.apply(translate,meta=('text',str))\n",
    "df.to_parquet('./translated/data')"
   ]
  }
 ],
 "metadata": {
  "kernelspec": {
   "display_name": "thesis",
   "language": "python",
   "name": "thesis"
  },
  "language_info": {
   "codemirror_mode": {
    "name": "ipython",
    "version": 3
   },
   "file_extension": ".py",
   "mimetype": "text/x-python",
   "name": "python",
   "nbconvert_exporter": "python",
   "pygments_lexer": "ipython3",
   "version": "3.9.7"
  }
 },
 "nbformat": 4,
 "nbformat_minor": 5
}
